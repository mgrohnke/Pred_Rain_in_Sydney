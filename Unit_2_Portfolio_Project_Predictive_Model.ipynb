{
  "nbformat": 4,
  "nbformat_minor": 0,
  "metadata": {
    "colab": {
      "name": "Unit 2 Portfolio Project - Predictive Model.ipynb",
      "provenance": [],
      "collapsed_sections": []
    },
    "kernelspec": {
      "name": "python3",
      "display_name": "Python 3"
    },
    "language_info": {
      "name": "python"
    }
  },
  "cells": [
    {
      "cell_type": "markdown",
      "metadata": {
        "id": "t27aEDydzw7g"
      },
      "source": [
        "**IMPORT LIBRARIES**"
      ]
    },
    {
      "cell_type": "code",
      "metadata": {
        "id": "6Daus_hczJ0G"
      },
      "source": [
        "# IMPORT LIBRARIES"
      ],
      "execution_count": 1,
      "outputs": []
    },
    {
      "cell_type": "code",
      "metadata": {
        "id": "AuDg_W_N478Z"
      },
      "source": [
        "%%capture\n",
        "!pip install category_encoders==2.*"
      ],
      "execution_count": 2,
      "outputs": []
    },
    {
      "cell_type": "code",
      "metadata": {
        "id": "I5Ez7dNH4wWn",
        "colab": {
          "base_uri": "https://localhost:8080/"
        },
        "outputId": "b09f4ff5-51fa-43fb-a67a-4f6cccb179e1"
      },
      "source": [
        "# data analysis and wrangling\n",
        "import pandas as pd\n",
        "import numpy as np\n",
        "\n",
        "# visualization\n",
        "import matplotlib.pyplot as plt\n",
        "%matplotlib inline\n",
        "\n",
        "from sklearn.model_selection import train_test_split\n",
        "\n",
        "# encoders\n",
        "from category_encoders import OneHotEncoder, OrdinalEncoder\n",
        "from sklearn.impute import SimpleImputer\n",
        "from sklearn.preprocessing import StandardScaler\n",
        "\n",
        "# metrics\n",
        "from sklearn.metrics import accuracy_score, precision_score, recall_score, classification_report, roc_auc_score\n",
        "\n",
        "# pipeline\n",
        "from sklearn.pipeline import make_pipeline\n",
        "\n",
        "# machine learning\n",
        "from sklearn.linear_model import LogisticRegression\n",
        "from sklearn.ensemble import RandomForestClassifier\n",
        "from sklearn.tree import DecisionTreeClassifier\n",
        "\n",
        "# boosted Models\n",
        "from sklearn.ensemble import GradientBoostingClassifier\n",
        "from xgboost import XGBClassifier \n",
        "\n",
        "# permutation importance\n",
        "from sklearn.inspection import permutation_importance "
      ],
      "execution_count": 3,
      "outputs": [
        {
          "output_type": "stream",
          "name": "stderr",
          "text": [
            "/usr/local/lib/python3.7/dist-packages/statsmodels/tools/_testing.py:19: FutureWarning: pandas.util.testing is deprecated. Use the functions in the public API at pandas.testing instead.\n",
            "  import pandas.util.testing as tm\n"
          ]
        }
      ]
    },
    {
      "cell_type": "markdown",
      "metadata": {
        "id": "wAT_HPMnz15Y"
      },
      "source": [
        "**WRANGLE DATA**"
      ]
    },
    {
      "cell_type": "code",
      "metadata": {
        "id": "p1lCZC_szllK"
      },
      "source": [
        "# WRANGLE DATA\n",
        "# https://www.kaggle.com/jsphyg/weather-dataset-rattle-package"
      ],
      "execution_count": 4,
      "outputs": []
    },
    {
      "cell_type": "code",
      "metadata": {
        "colab": {
          "base_uri": "https://localhost:8080/"
        },
        "id": "7Z-ZuvPj5K8s",
        "outputId": "1c2bedb6-d8d4-4c88-9307-ed5a4e2be0b0"
      },
      "source": [
        "!unzip \\*.zip  && rm *.zip"
      ],
      "execution_count": 5,
      "outputs": [
        {
          "output_type": "stream",
          "name": "stdout",
          "text": [
            "Archive:  Unit_2_Project_data.zip\n",
            "  inflating: weatherAUS.csv          \n"
          ]
        }
      ]
    },
    {
      "cell_type": "code",
      "metadata": {
        "id": "4KSX8x9PdkCa"
      },
      "source": [
        "DATA_PATH = 'weatherAUS.csv'"
      ],
      "execution_count": 6,
      "outputs": []
    },
    {
      "cell_type": "code",
      "metadata": {
        "id": "R4MHG4RJdh0G"
      },
      "source": [
        "def wrangle(filepath):\n",
        "  df = pd.read_csv(filepath, parse_dates=['Date'], index_col='Date')  # Making date the index\n",
        "\n",
        "  df = df.replace('SydneyAirport', 'Sydney')                          # Combine Sydney Airport with larger Sydney Data\n",
        "\n",
        "  df = df.loc[df['Location'] == 'Sydney']                             # Only want to look at data for Sydney\n",
        "\n",
        "  df = df.drop(columns= 'WindGustDir')                                # Dropping columns that have many null values\n",
        "  df = df.drop(columns = 'WindGustSpeed')\n",
        "  df = df.drop(columns = 'RainToday')                                 # Dropped column with repetitive information - \"Rainfall\" column is already present\n",
        "\n",
        "  df = df.dropna()                                                    # Dropping all rows with any remaining null values\n",
        "\n",
        "  return df\n",
        "\n",
        "df = wrangle(DATA_PATH)"
      ],
      "execution_count": 7,
      "outputs": []
    },
    {
      "cell_type": "code",
      "metadata": {
        "colab": {
          "base_uri": "https://localhost:8080/",
          "height": 344
        },
        "id": "42otkq3Geie2",
        "outputId": "c5d62126-aee1-4a55-c680-5077e8af6119"
      },
      "source": [
        "df.tail()"
      ],
      "execution_count": 8,
      "outputs": [
        {
          "output_type": "execute_result",
          "data": {
            "text/html": [
              "<div>\n",
              "<style scoped>\n",
              "    .dataframe tbody tr th:only-of-type {\n",
              "        vertical-align: middle;\n",
              "    }\n",
              "\n",
              "    .dataframe tbody tr th {\n",
              "        vertical-align: top;\n",
              "    }\n",
              "\n",
              "    .dataframe thead th {\n",
              "        text-align: right;\n",
              "    }\n",
              "</style>\n",
              "<table border=\"1\" class=\"dataframe\">\n",
              "  <thead>\n",
              "    <tr style=\"text-align: right;\">\n",
              "      <th></th>\n",
              "      <th>Location</th>\n",
              "      <th>MinTemp</th>\n",
              "      <th>MaxTemp</th>\n",
              "      <th>Rainfall</th>\n",
              "      <th>Evaporation</th>\n",
              "      <th>Sunshine</th>\n",
              "      <th>WindDir9am</th>\n",
              "      <th>WindDir3pm</th>\n",
              "      <th>WindSpeed9am</th>\n",
              "      <th>WindSpeed3pm</th>\n",
              "      <th>Humidity9am</th>\n",
              "      <th>Humidity3pm</th>\n",
              "      <th>Pressure9am</th>\n",
              "      <th>Pressure3pm</th>\n",
              "      <th>Cloud9am</th>\n",
              "      <th>Cloud3pm</th>\n",
              "      <th>Temp9am</th>\n",
              "      <th>Temp3pm</th>\n",
              "      <th>RainTomorrow</th>\n",
              "    </tr>\n",
              "    <tr>\n",
              "      <th>Date</th>\n",
              "      <th></th>\n",
              "      <th></th>\n",
              "      <th></th>\n",
              "      <th></th>\n",
              "      <th></th>\n",
              "      <th></th>\n",
              "      <th></th>\n",
              "      <th></th>\n",
              "      <th></th>\n",
              "      <th></th>\n",
              "      <th></th>\n",
              "      <th></th>\n",
              "      <th></th>\n",
              "      <th></th>\n",
              "      <th></th>\n",
              "      <th></th>\n",
              "      <th></th>\n",
              "      <th></th>\n",
              "      <th></th>\n",
              "    </tr>\n",
              "  </thead>\n",
              "  <tbody>\n",
              "    <tr>\n",
              "      <th>2017-06-21</th>\n",
              "      <td>Sydney</td>\n",
              "      <td>8.6</td>\n",
              "      <td>18.6</td>\n",
              "      <td>0.2</td>\n",
              "      <td>2.0</td>\n",
              "      <td>7.8</td>\n",
              "      <td>NNW</td>\n",
              "      <td>S</td>\n",
              "      <td>13.0</td>\n",
              "      <td>28.0</td>\n",
              "      <td>69.0</td>\n",
              "      <td>67.0</td>\n",
              "      <td>1025.7</td>\n",
              "      <td>1025.3</td>\n",
              "      <td>2.0</td>\n",
              "      <td>2.0</td>\n",
              "      <td>13.3</td>\n",
              "      <td>17.7</td>\n",
              "      <td>No</td>\n",
              "    </tr>\n",
              "    <tr>\n",
              "      <th>2017-06-22</th>\n",
              "      <td>Sydney</td>\n",
              "      <td>9.5</td>\n",
              "      <td>17.8</td>\n",
              "      <td>0.2</td>\n",
              "      <td>2.0</td>\n",
              "      <td>9.2</td>\n",
              "      <td>NNW</td>\n",
              "      <td>SSE</td>\n",
              "      <td>9.0</td>\n",
              "      <td>9.0</td>\n",
              "      <td>74.0</td>\n",
              "      <td>70.0</td>\n",
              "      <td>1028.3</td>\n",
              "      <td>1024.6</td>\n",
              "      <td>2.0</td>\n",
              "      <td>2.0</td>\n",
              "      <td>14.3</td>\n",
              "      <td>16.8</td>\n",
              "      <td>No</td>\n",
              "    </tr>\n",
              "    <tr>\n",
              "      <th>2017-06-23</th>\n",
              "      <td>Sydney</td>\n",
              "      <td>8.7</td>\n",
              "      <td>19.4</td>\n",
              "      <td>0.0</td>\n",
              "      <td>2.4</td>\n",
              "      <td>2.7</td>\n",
              "      <td>NW</td>\n",
              "      <td>NW</td>\n",
              "      <td>13.0</td>\n",
              "      <td>15.0</td>\n",
              "      <td>83.0</td>\n",
              "      <td>57.0</td>\n",
              "      <td>1020.8</td>\n",
              "      <td>1014.7</td>\n",
              "      <td>6.0</td>\n",
              "      <td>6.0</td>\n",
              "      <td>10.9</td>\n",
              "      <td>18.2</td>\n",
              "      <td>No</td>\n",
              "    </tr>\n",
              "    <tr>\n",
              "      <th>2017-06-24</th>\n",
              "      <td>Sydney</td>\n",
              "      <td>9.4</td>\n",
              "      <td>19.9</td>\n",
              "      <td>0.0</td>\n",
              "      <td>1.4</td>\n",
              "      <td>9.3</td>\n",
              "      <td>WNW</td>\n",
              "      <td>W</td>\n",
              "      <td>22.0</td>\n",
              "      <td>28.0</td>\n",
              "      <td>61.0</td>\n",
              "      <td>41.0</td>\n",
              "      <td>1017.3</td>\n",
              "      <td>1015.2</td>\n",
              "      <td>5.0</td>\n",
              "      <td>2.0</td>\n",
              "      <td>12.9</td>\n",
              "      <td>19.3</td>\n",
              "      <td>No</td>\n",
              "    </tr>\n",
              "    <tr>\n",
              "      <th>2017-06-25</th>\n",
              "      <td>Sydney</td>\n",
              "      <td>6.8</td>\n",
              "      <td>19.5</td>\n",
              "      <td>0.0</td>\n",
              "      <td>3.4</td>\n",
              "      <td>9.4</td>\n",
              "      <td>NW</td>\n",
              "      <td>WSW</td>\n",
              "      <td>19.0</td>\n",
              "      <td>28.0</td>\n",
              "      <td>67.0</td>\n",
              "      <td>42.0</td>\n",
              "      <td>1018.4</td>\n",
              "      <td>1015.2</td>\n",
              "      <td>1.0</td>\n",
              "      <td>1.0</td>\n",
              "      <td>11.9</td>\n",
              "      <td>17.9</td>\n",
              "      <td>No</td>\n",
              "    </tr>\n",
              "  </tbody>\n",
              "</table>\n",
              "</div>"
            ],
            "text/plain": [
              "           Location  MinTemp  MaxTemp  ...  Temp9am  Temp3pm  RainTomorrow\n",
              "Date                                   ...                                \n",
              "2017-06-21   Sydney      8.6     18.6  ...     13.3     17.7            No\n",
              "2017-06-22   Sydney      9.5     17.8  ...     14.3     16.8            No\n",
              "2017-06-23   Sydney      8.7     19.4  ...     10.9     18.2            No\n",
              "2017-06-24   Sydney      9.4     19.9  ...     12.9     19.3            No\n",
              "2017-06-25   Sydney      6.8     19.5  ...     11.9     17.9            No\n",
              "\n",
              "[5 rows x 19 columns]"
            ]
          },
          "metadata": {},
          "execution_count": 8
        }
      ]
    },
    {
      "cell_type": "code",
      "metadata": {
        "colab": {
          "base_uri": "https://localhost:8080/"
        },
        "id": "jkCg9cuJcUO-",
        "outputId": "4f9eb77e-506d-49f6-e26e-abc81a1e9929"
      },
      "source": [
        "df.shape"
      ],
      "execution_count": 9,
      "outputs": [
        {
          "output_type": "execute_result",
          "data": {
            "text/plain": [
              "(5530, 19)"
            ]
          },
          "metadata": {},
          "execution_count": 9
        }
      ]
    },
    {
      "cell_type": "markdown",
      "metadata": {
        "id": "h8lJzAkmf5-7"
      },
      "source": [
        "**FEATURE MATRIX AND TARGET VECTOR**"
      ]
    },
    {
      "cell_type": "code",
      "metadata": {
        "id": "zgGoG-r3zrvU"
      },
      "source": [
        "# SPLIT X & y\n",
        "Target = 'RainTomorrow'\n",
        "X = df.drop(columns = Target)\n",
        "y = df[Target]"
      ],
      "execution_count": 10,
      "outputs": []
    },
    {
      "cell_type": "code",
      "metadata": {
        "colab": {
          "base_uri": "https://localhost:8080/"
        },
        "id": "KuSRfPLukdlU",
        "outputId": "7f1102bf-96d4-493c-eceb-3c0b8e17f13b"
      },
      "source": [
        "y.head()"
      ],
      "execution_count": 11,
      "outputs": [
        {
          "output_type": "execute_result",
          "data": {
            "text/plain": [
              "Date\n",
              "2008-02-01    Yes\n",
              "2008-02-02    Yes\n",
              "2008-02-03    Yes\n",
              "2008-02-04    Yes\n",
              "2008-02-06    Yes\n",
              "Name: RainTomorrow, dtype: object"
            ]
          },
          "metadata": {},
          "execution_count": 11
        }
      ]
    },
    {
      "cell_type": "code",
      "metadata": {
        "colab": {
          "base_uri": "https://localhost:8080/"
        },
        "id": "stpsnMCMi1zv",
        "outputId": "f99325ff-2f1e-46a7-e1ed-63faebb3cdc2"
      },
      "source": [
        "y.value_counts(normalize=True)"
      ],
      "execution_count": 12,
      "outputs": [
        {
          "output_type": "execute_result",
          "data": {
            "text/plain": [
              "No     0.750814\n",
              "Yes    0.249186\n",
              "Name: RainTomorrow, dtype: float64"
            ]
          },
          "metadata": {},
          "execution_count": 12
        }
      ]
    },
    {
      "cell_type": "code",
      "metadata": {
        "colab": {
          "base_uri": "https://localhost:8080/"
        },
        "id": "OXFi9LHij5SM",
        "outputId": "c43064eb-ccde-4586-8644-1a3ff37ee3fc"
      },
      "source": [
        "y.value_counts()"
      ],
      "execution_count": 13,
      "outputs": [
        {
          "output_type": "execute_result",
          "data": {
            "text/plain": [
              "No     4152\n",
              "Yes    1378\n",
              "Name: RainTomorrow, dtype: int64"
            ]
          },
          "metadata": {},
          "execution_count": 13
        }
      ]
    },
    {
      "cell_type": "code",
      "metadata": {
        "id": "bRApJemfoMrE"
      },
      "source": [
        "# Create test set BEFORE undersampling"
      ],
      "execution_count": 14,
      "outputs": []
    },
    {
      "cell_type": "code",
      "metadata": {
        "id": "b8QOtQo4oTnL"
      },
      "source": [
        "X_temp, X_test, y_temp, y_test = train_test_split(X, y, train_size=.90, test_size=.10, random_state=42)"
      ],
      "execution_count": 15,
      "outputs": []
    },
    {
      "cell_type": "code",
      "metadata": {
        "colab": {
          "base_uri": "https://localhost:8080/"
        },
        "id": "yR6lK7ZQo3Ux",
        "outputId": "6a978770-89c7-4c34-ebd3-b912e0b56a27"
      },
      "source": [
        "X_test.shape, y_test.shape"
      ],
      "execution_count": 16,
      "outputs": [
        {
          "output_type": "execute_result",
          "data": {
            "text/plain": [
              "((553, 18), (553,))"
            ]
          },
          "metadata": {},
          "execution_count": 16
        }
      ]
    },
    {
      "cell_type": "code",
      "metadata": {
        "id": "dW2KQS3N04LA"
      },
      "source": [
        "# UNDERSAMPLE\n",
        "from imblearn.under_sampling import RandomUnderSampler\n",
        "\n",
        "rus = RandomUnderSampler(random_state = 42, replacement = False)\n",
        "\n",
        "X_rus, y_rus = rus.fit_resample(X_temp, y_temp)"
      ],
      "execution_count": 17,
      "outputs": []
    },
    {
      "cell_type": "code",
      "metadata": {
        "colab": {
          "base_uri": "https://localhost:8080/"
        },
        "id": "Buhr-EC0lA5j",
        "outputId": "2f18ee16-15d9-4c4f-e004-c43441a4fedd"
      },
      "source": [
        "X_rus.shape, y_rus.shape"
      ],
      "execution_count": 18,
      "outputs": [
        {
          "output_type": "execute_result",
          "data": {
            "text/plain": [
              "((2454, 18), (2454,))"
            ]
          },
          "metadata": {},
          "execution_count": 18
        }
      ]
    },
    {
      "cell_type": "code",
      "metadata": {
        "colab": {
          "base_uri": "https://localhost:8080/"
        },
        "id": "bTUfq0fEkwZq",
        "outputId": "2c20df2f-56dc-4b6a-e8ae-d442c6057f38"
      },
      "source": [
        "y_rus.value_counts()"
      ],
      "execution_count": 19,
      "outputs": [
        {
          "output_type": "execute_result",
          "data": {
            "text/plain": [
              "Yes    1227\n",
              "No     1227\n",
              "Name: RainTomorrow, dtype: int64"
            ]
          },
          "metadata": {},
          "execution_count": 19
        }
      ]
    },
    {
      "cell_type": "markdown",
      "metadata": {
        "id": "M-IBGfKe0OAo"
      },
      "source": [
        "**SPLIT DATA INTO TRAIN, VALIDATION, TEST**"
      ]
    },
    {
      "cell_type": "code",
      "metadata": {
        "id": "FNMJ3SRZ0-yB"
      },
      "source": [
        "# SPLIT INTO TRAIN & VALIDATION\n",
        "X_train, X_val, y_train, y_val = train_test_split(X_rus, y_rus, train_size=.80, test_size=.20, random_state=42)"
      ],
      "execution_count": 20,
      "outputs": []
    },
    {
      "cell_type": "code",
      "metadata": {
        "colab": {
          "base_uri": "https://localhost:8080/"
        },
        "id": "jzdNuC4zpbY7",
        "outputId": "7ab9d34b-d45e-42fe-eda2-ed4dc610f926"
      },
      "source": [
        "X_train.shape, y_train.shape"
      ],
      "execution_count": 21,
      "outputs": [
        {
          "output_type": "execute_result",
          "data": {
            "text/plain": [
              "((1963, 18), (1963,))"
            ]
          },
          "metadata": {},
          "execution_count": 21
        }
      ]
    },
    {
      "cell_type": "code",
      "metadata": {
        "colab": {
          "base_uri": "https://localhost:8080/"
        },
        "id": "Y9Jg62YYpftU",
        "outputId": "6051ab55-4439-4873-a544-61ce41927906"
      },
      "source": [
        "X_val.shape, y_val.shape"
      ],
      "execution_count": 22,
      "outputs": [
        {
          "output_type": "execute_result",
          "data": {
            "text/plain": [
              "((491, 18), (491,))"
            ]
          },
          "metadata": {},
          "execution_count": 22
        }
      ]
    },
    {
      "cell_type": "markdown",
      "metadata": {
        "id": "3emHmXB70g6k"
      },
      "source": [
        "**ESTABLISH BASELINE**"
      ]
    },
    {
      "cell_type": "code",
      "metadata": {
        "colab": {
          "base_uri": "https://localhost:8080/"
        },
        "id": "Ckc8cnu61C6R",
        "outputId": "15841a0f-b68c-49d2-db0b-917fefe1f439"
      },
      "source": [
        "# ESTABLISH BASELINE FOR CLASSIFICATION PROBLEM (Majority class BEFORE undersampling)\n",
        "print(y.value_counts(normalize=True).max())"
      ],
      "execution_count": 23,
      "outputs": [
        {
          "output_type": "stream",
          "name": "stdout",
          "text": [
            "0.7508137432188066\n"
          ]
        }
      ]
    },
    {
      "cell_type": "markdown",
      "metadata": {
        "id": "WCxVAf7w0kbP"
      },
      "source": [
        "**TRAIN MODELS**"
      ]
    },
    {
      "cell_type": "code",
      "metadata": {
        "id": "VT3tq0Mm1Esd"
      },
      "source": [
        "# BUILD LINEAR MODEL (Logistic Regression)\n",
        "model_logr = make_pipeline(\n",
        "            OneHotEncoder(use_cat_names=True),\n",
        "            SimpleImputer(strategy='mean'),\n",
        "            StandardScaler(),\n",
        "            LogisticRegression()\n",
        ")\n",
        "\n",
        "model_logr.fit(X_train, y_train);"
      ],
      "execution_count": 24,
      "outputs": []
    },
    {
      "cell_type": "code",
      "metadata": {
        "id": "b-1JJiPU1GZ8"
      },
      "source": [
        "# BUILD TREE-BASED MODEL\n",
        "model_xgb = make_pipeline(\n",
        "    OrdinalEncoder(),\n",
        "    SimpleImputer(strategy='mean'),\n",
        "    XGBClassifier(random_state=42, n_jobs=-1)\n",
        ")\n",
        "\n",
        "model_xgb.fit(X_train,y_train);"
      ],
      "execution_count": 25,
      "outputs": []
    },
    {
      "cell_type": "markdown",
      "metadata": {
        "id": "60zavAVO0nZB"
      },
      "source": [
        "**CHECK METRICS**"
      ]
    },
    {
      "cell_type": "code",
      "metadata": {
        "id": "PO9CnAxZ1Ivv"
      },
      "source": [
        "# CHECK ACCURACY ON VALIDATION SET"
      ],
      "execution_count": 26,
      "outputs": []
    },
    {
      "cell_type": "code",
      "metadata": {
        "colab": {
          "base_uri": "https://localhost:8080/"
        },
        "id": "0C_28P6bryv9",
        "outputId": "13a0d722-b9f5-4853-dea3-0a6007435d08"
      },
      "source": [
        "# LINEAR MODEL (Logistic Regression)\n",
        "print('Training Accuracy:', model_logr.score(X_train, y_train))\n",
        "print('Validation Accuracy:', model_logr.score(X_val, y_val))           "
      ],
      "execution_count": 27,
      "outputs": [
        {
          "output_type": "stream",
          "name": "stdout",
          "text": [
            "Training Accuracy: 0.782475802343352\n",
            "Validation Accuracy: 0.7596741344195519\n"
          ]
        }
      ]
    },
    {
      "cell_type": "code",
      "metadata": {
        "colab": {
          "base_uri": "https://localhost:8080/"
        },
        "id": "1YkUfdtGst7f",
        "outputId": "6409cd5e-201d-464f-a415-33e84ac2c06b"
      },
      "source": [
        "# TREE-BASED MODEL (XGBoost)\n",
        "print('Training Accuracy', model_xgb.score(X_train, y_train))\n",
        "print('Validation Accuracy', model_xgb.score(X_val, y_val))"
      ],
      "execution_count": 28,
      "outputs": [
        {
          "output_type": "stream",
          "name": "stdout",
          "text": [
            "Training Accuracy 0.8441161487519103\n",
            "Validation Accuracy 0.7881873727087576\n"
          ]
        }
      ]
    },
    {
      "cell_type": "markdown",
      "metadata": {
        "id": "fAmXxBPW0qFh"
      },
      "source": [
        "**TUNE BEST MODEL**"
      ]
    },
    {
      "cell_type": "code",
      "metadata": {
        "id": "vZQZhhPD1PJ4"
      },
      "source": [
        "# TUNE BEST MODEL ON VALIDATION SET\n",
        "model_xgb_tune = make_pipeline(\n",
        "    OrdinalEncoder(),\n",
        "    SimpleImputer(strategy='mean'),\n",
        "    XGBClassifier(random_state= 42, n_estimators=80, max_depth = 7, n_jobs=-1)\n",
        ")\n",
        "\n",
        "model_xgb_tune.fit(X_train,y_train);"
      ],
      "execution_count": 29,
      "outputs": []
    },
    {
      "cell_type": "code",
      "metadata": {
        "colab": {
          "base_uri": "https://localhost:8080/"
        },
        "id": "BqsBKxifvbVb",
        "outputId": "0848c193-96b5-4551-fc35-973bfbb74a0b"
      },
      "source": [
        "print('Training Accuracy', model_xgb_tune.score(X_train, y_train))\n",
        "print('Validation Accuracy', model_xgb_tune.score(X_val, y_val))"
      ],
      "execution_count": 30,
      "outputs": [
        {
          "output_type": "stream",
          "name": "stdout",
          "text": [
            "Training Accuracy 0.9923586347427407\n",
            "Validation Accuracy 0.8044806517311609\n"
          ]
        }
      ]
    },
    {
      "cell_type": "markdown",
      "metadata": {
        "id": "QWp-P-T40tyh"
      },
      "source": [
        "**COMMUNICATE RESULTS**"
      ]
    },
    {
      "cell_type": "code",
      "metadata": {
        "id": "mcA8mquRw3r7"
      },
      "source": [
        "model_final = model_xgb_tune"
      ],
      "execution_count": 31,
      "outputs": []
    },
    {
      "cell_type": "code",
      "metadata": {
        "colab": {
          "base_uri": "https://localhost:8080/"
        },
        "id": "J8MkgzGn1RAU",
        "outputId": "6962f418-c586-4117-bdb6-e31a39f94237"
      },
      "source": [
        "# FINAL RESULTS ON TEST SET\n",
        "print('Test Accuracy', model_final.score(X_test, y_test))"
      ],
      "execution_count": 32,
      "outputs": [
        {
          "output_type": "stream",
          "name": "stdout",
          "text": [
            "Test Accuracy 0.8083182640144665\n"
          ]
        }
      ]
    },
    {
      "cell_type": "code",
      "metadata": {
        "id": "1EAYakXT1T2Y",
        "colab": {
          "base_uri": "https://localhost:8080/",
          "height": 265
        },
        "outputId": "d945b746-34fe-4278-d360-7681f7099350"
      },
      "source": [
        "# VISUAL WITH MOST IMPORTANT FEATURE\n",
        "importances = model_xgb_tune.named_steps['xgbclassifier'].feature_importances_\n",
        "features = X_train.columns\n",
        "pd.Series(importances, index=features).sort_values().tail(10).plot(kind='barh');"
      ],
      "execution_count": 33,
      "outputs": [
        {
          "output_type": "display_data",
          "data": {
            "image/png": "[encoded data removed]",
            "text/plain": [
              "<Figure size 432x288 with 1 Axes>"
            ]
          },
          "metadata": {
            "needs_background": "light"
          }
        }
      ]
    }
  ]
}